{
 "cells": [
  {
   "cell_type": "code",
   "execution_count": 3,
   "id": "speaking-course",
   "metadata": {
    "tags": []
   },
   "outputs": [],
   "source": [
    "import os\n",
    "from pathlib import Path\n",
    "\n",
    "import geopandas as gpd\n",
    "import rasterio\n",
    "from rasterio import features\n",
    "\n",
    "import numpy as np\n",
    "import matplotlib.pyplot as plt\n",
    "from sklearn.ensemble import RandomForestClassifier as RF\n",
    "from sklearn.model_selection import train_test_split\n",
    "from sklearn.metrics import confusion_matrix\n"
   ]
  },
  {
   "cell_type": "code",
   "execution_count": 5,
   "id": "suspended-murder",
   "metadata": {},
   "outputs": [],
   "source": [
    "def read_img(path_to_img):\n",
    "    with rasterio.open(path_to_img, \"r\") as img:\n",
    "        return img.read(1).astype(np.float32)"
   ]
  },
  {
   "cell_type": "code",
   "execution_count": 7,
   "id": "rural-hours",
   "metadata": {},
   "outputs": [
    {
     "name": "stderr",
     "output_type": "stream",
     "text": [
      "C:\\Users\\ronny\\.conda\\envs\\rs\\lib\\site-packages\\geopandas\\geodataframe.py:577: RuntimeWarning: Sequential read of iterator was interrupted. Resetting iterator. This can negatively impact the performance.\n",
      "  for feature in features_lst:\n"
     ]
    }
   ],
   "source": [
    "# vector data from last session\n",
    "gt = gpd.read_file(\"D:\\_Programmieren\\VU_Automatisierung_Daten\\Daten\\session7\\data\\ground_truth_vector\\ground_truth.gpkg\")\n",
    "\n",
    "# satellite data from last session\n",
    "base = Path(\"D:\\_Programmieren\\VU_Automatisierung_Daten\\Daten\\session7\\data\\s2_img\")"
   ]
  },
  {
   "cell_type": "code",
   "execution_count": 10,
   "id": "exclusive-newcastle",
   "metadata": {},
   "outputs": [
    {
     "data": {
      "text/html": [
       "<div>\n",
       "<style scoped>\n",
       "    .dataframe tbody tr th:only-of-type {\n",
       "        vertical-align: middle;\n",
       "    }\n",
       "\n",
       "    .dataframe tbody tr th {\n",
       "        vertical-align: top;\n",
       "    }\n",
       "\n",
       "    .dataframe thead th {\n",
       "        text-align: right;\n",
       "    }\n",
       "</style>\n",
       "<table border=\"1\" class=\"dataframe\">\n",
       "  <thead>\n",
       "    <tr style=\"text-align: right;\">\n",
       "      <th></th>\n",
       "      <th>class</th>\n",
       "      <th>class_id</th>\n",
       "      <th>uuid</th>\n",
       "      <th>geometry</th>\n",
       "    </tr>\n",
       "  </thead>\n",
       "  <tbody>\n",
       "    <tr>\n",
       "      <th>0</th>\n",
       "      <td>rock_debris</td>\n",
       "      <td>0</td>\n",
       "      <td>0</td>\n",
       "      <td>POLYGON ((659758.988 5211279.785, 659360.151 5...</td>\n",
       "    </tr>\n",
       "    <tr>\n",
       "      <th>1</th>\n",
       "      <td>rock_debris</td>\n",
       "      <td>0</td>\n",
       "      <td>1</td>\n",
       "      <td>POLYGON ((661859.413 5210692.756, 661855.003 5...</td>\n",
       "    </tr>\n",
       "    <tr>\n",
       "      <th>2</th>\n",
       "      <td>rock_debris</td>\n",
       "      <td>0</td>\n",
       "      <td>2</td>\n",
       "      <td>POLYGON ((662028.964 5211059.152, 662084.122 5...</td>\n",
       "    </tr>\n",
       "    <tr>\n",
       "      <th>3</th>\n",
       "      <td>rock_debris</td>\n",
       "      <td>0</td>\n",
       "      <td>3</td>\n",
       "      <td>POLYGON ((662099.907 5210904.814, 662098.019 5...</td>\n",
       "    </tr>\n",
       "    <tr>\n",
       "      <th>4</th>\n",
       "      <td>rock_debris</td>\n",
       "      <td>0</td>\n",
       "      <td>4</td>\n",
       "      <td>POLYGON ((663226.267 5210963.338, 663240.054 5...</td>\n",
       "    </tr>\n",
       "    <tr>\n",
       "      <th>...</th>\n",
       "      <td>...</td>\n",
       "      <td>...</td>\n",
       "      <td>...</td>\n",
       "      <td>...</td>\n",
       "    </tr>\n",
       "    <tr>\n",
       "      <th>142</th>\n",
       "      <td>ice_snow</td>\n",
       "      <td>3</td>\n",
       "      <td>142</td>\n",
       "      <td>POLYGON ((636712.437 5193481.859, 636598.835 5...</td>\n",
       "    </tr>\n",
       "    <tr>\n",
       "      <th>143</th>\n",
       "      <td>ice_snow</td>\n",
       "      <td>3</td>\n",
       "      <td>143</td>\n",
       "      <td>POLYGON ((662169.814 5204849.069, 661932.124 5...</td>\n",
       "    </tr>\n",
       "    <tr>\n",
       "      <th>144</th>\n",
       "      <td>ice_snow</td>\n",
       "      <td>3</td>\n",
       "      <td>144</td>\n",
       "      <td>POLYGON ((664880.537 5204863.051, 664807.133 5...</td>\n",
       "    </tr>\n",
       "    <tr>\n",
       "      <th>145</th>\n",
       "      <td>ice_snow</td>\n",
       "      <td>3</td>\n",
       "      <td>145</td>\n",
       "      <td>POLYGON ((702683.851 5216366.583, 702295.855 5...</td>\n",
       "    </tr>\n",
       "    <tr>\n",
       "      <th>146</th>\n",
       "      <td>ice_snow</td>\n",
       "      <td>3</td>\n",
       "      <td>146</td>\n",
       "      <td>POLYGON ((701182.883 5216199.477, 701175.583 5...</td>\n",
       "    </tr>\n",
       "  </tbody>\n",
       "</table>\n",
       "<p>147 rows × 4 columns</p>\n",
       "</div>"
      ],
      "text/plain": [
       "           class  class_id  uuid  \\\n",
       "0    rock_debris         0     0   \n",
       "1    rock_debris         0     1   \n",
       "2    rock_debris         0     2   \n",
       "3    rock_debris         0     3   \n",
       "4    rock_debris         0     4   \n",
       "..           ...       ...   ...   \n",
       "142     ice_snow         3   142   \n",
       "143     ice_snow         3   143   \n",
       "144     ice_snow         3   144   \n",
       "145     ice_snow         3   145   \n",
       "146     ice_snow         3   146   \n",
       "\n",
       "                                              geometry  \n",
       "0    POLYGON ((659758.988 5211279.785, 659360.151 5...  \n",
       "1    POLYGON ((661859.413 5210692.756, 661855.003 5...  \n",
       "2    POLYGON ((662028.964 5211059.152, 662084.122 5...  \n",
       "3    POLYGON ((662099.907 5210904.814, 662098.019 5...  \n",
       "4    POLYGON ((663226.267 5210963.338, 663240.054 5...  \n",
       "..                                                 ...  \n",
       "142  POLYGON ((636712.437 5193481.859, 636598.835 5...  \n",
       "143  POLYGON ((662169.814 5204849.069, 661932.124 5...  \n",
       "144  POLYGON ((664880.537 5204863.051, 664807.133 5...  \n",
       "145  POLYGON ((702683.851 5216366.583, 702295.855 5...  \n",
       "146  POLYGON ((701182.883 5216199.477, 701175.583 5...  \n",
       "\n",
       "[147 rows x 4 columns]"
      ]
     },
     "execution_count": 10,
     "metadata": {},
     "output_type": "execute_result"
    }
   ],
   "source": [
    "gt"
   ]
  },
  {
   "cell_type": "code",
   "execution_count": 16,
   "id": "another-anthony",
   "metadata": {},
   "outputs": [
    {
     "data": {
      "text/plain": [
       "(array(['forest', 'grassland', 'ice_snow', 'rock_debris'], dtype=object),\n",
       " array([35, 26, 36, 50], dtype=int64))"
      ]
     },
     "execution_count": 16,
     "metadata": {},
     "output_type": "execute_result"
    }
   ],
   "source": [
    "np.unique(gt[\"class\"], return_counts = True)"
   ]
  },
  {
   "cell_type": "code",
   "execution_count": 39,
   "id": "reserved-intervention",
   "metadata": {},
   "outputs": [],
   "source": [
    "#idxs = list(gt.index)\n",
    "idxs = np.arange(len(gt))"
   ]
  },
  {
   "cell_type": "code",
   "execution_count": 40,
   "id": "unique-paste",
   "metadata": {},
   "outputs": [],
   "source": [
    "idx_train, idx_test = train_test_split(idxs, random_state = 12, test_size = 0.3, stratify = gt[\"class_id\"])"
   ]
  },
  {
   "cell_type": "code",
   "execution_count": 31,
   "id": "tracked-aberdeen",
   "metadata": {
    "collapsed": true,
    "jupyter": {
     "outputs_hidden": true
    },
    "tags": []
   },
   "outputs": [
    {
     "name": "stdout",
     "output_type": "stream",
     "text": [
      "Help on function train_test_split in module sklearn.model_selection._split:\n",
      "\n",
      "train_test_split(*arrays, test_size=None, train_size=None, random_state=None, shuffle=True, stratify=None)\n",
      "    Split arrays or matrices into random train and test subsets\n",
      "    \n",
      "    Quick utility that wraps input validation and\n",
      "    ``next(ShuffleSplit().split(X, y))`` and application to input data\n",
      "    into a single call for splitting (and optionally subsampling) data in a\n",
      "    oneliner.\n",
      "    \n",
      "    Read more in the :ref:`User Guide <cross_validation>`.\n",
      "    \n",
      "    Parameters\n",
      "    ----------\n",
      "    *arrays : sequence of indexables with same length / shape[0]\n",
      "        Allowed inputs are lists, numpy arrays, scipy-sparse\n",
      "        matrices or pandas dataframes.\n",
      "    \n",
      "    test_size : float or int, default=None\n",
      "        If float, should be between 0.0 and 1.0 and represent the proportion\n",
      "        of the dataset to include in the test split. If int, represents the\n",
      "        absolute number of test samples. If None, the value is set to the\n",
      "        complement of the train size. If ``train_size`` is also None, it will\n",
      "        be set to 0.25.\n",
      "    \n",
      "    train_size : float or int, default=None\n",
      "        If float, should be between 0.0 and 1.0 and represent the\n",
      "        proportion of the dataset to include in the train split. If\n",
      "        int, represents the absolute number of train samples. If None,\n",
      "        the value is automatically set to the complement of the test size.\n",
      "    \n",
      "    random_state : int, RandomState instance or None, default=None\n",
      "        Controls the shuffling applied to the data before applying the split.\n",
      "        Pass an int for reproducible output across multiple function calls.\n",
      "        See :term:`Glossary <random_state>`.\n",
      "    \n",
      "    \n",
      "    shuffle : bool, default=True\n",
      "        Whether or not to shuffle the data before splitting. If shuffle=False\n",
      "        then stratify must be None.\n",
      "    \n",
      "    stratify : array-like, default=None\n",
      "        If not None, data is split in a stratified fashion, using this as\n",
      "        the class labels.\n",
      "        Read more in the :ref:`User Guide <stratification>`.\n",
      "    \n",
      "    Returns\n",
      "    -------\n",
      "    splitting : list, length=2 * len(arrays)\n",
      "        List containing train-test split of inputs.\n",
      "    \n",
      "        .. versionadded:: 0.16\n",
      "            If the input is sparse, the output will be a\n",
      "            ``scipy.sparse.csr_matrix``. Else, output type is the same as the\n",
      "            input type.\n",
      "    \n",
      "    Examples\n",
      "    --------\n",
      "    >>> import numpy as np\n",
      "    >>> from sklearn.model_selection import train_test_split\n",
      "    >>> X, y = np.arange(10).reshape((5, 2)), range(5)\n",
      "    >>> X\n",
      "    array([[0, 1],\n",
      "           [2, 3],\n",
      "           [4, 5],\n",
      "           [6, 7],\n",
      "           [8, 9]])\n",
      "    >>> list(y)\n",
      "    [0, 1, 2, 3, 4]\n",
      "    \n",
      "    >>> X_train, X_test, y_train, y_test = train_test_split(\n",
      "    ...     X, y, test_size=0.33, random_state=42)\n",
      "    ...\n",
      "    >>> X_train\n",
      "    array([[4, 5],\n",
      "           [0, 1],\n",
      "           [6, 7]])\n",
      "    >>> y_train\n",
      "    [2, 0, 3]\n",
      "    >>> X_test\n",
      "    array([[2, 3],\n",
      "           [8, 9]])\n",
      "    >>> y_test\n",
      "    [1, 4]\n",
      "    \n",
      "    >>> train_test_split(y, shuffle=False)\n",
      "    [[0, 1, 2], [3, 4]]\n",
      "\n"
     ]
    }
   ],
   "source": [
    "help(train_test_split)"
   ]
  },
  {
   "cell_type": "code",
   "execution_count": 41,
   "id": "arranged-ready",
   "metadata": {},
   "outputs": [
    {
     "name": "stdout",
     "output_type": "stream",
     "text": [
      "(102,)\n",
      "(45,)\n"
     ]
    }
   ],
   "source": [
    "print(idx_train.shape)\n",
    "print(idx_test.shape)"
   ]
  },
  {
   "cell_type": "code",
   "execution_count": 44,
   "id": "exclusive-animation",
   "metadata": {},
   "outputs": [],
   "source": [
    "polygon_train = gt.iloc[idx_train,:]\n",
    "polygon_test = gt.iloc[idx_test,:]"
   ]
  },
  {
   "cell_type": "code",
   "execution_count": 45,
   "id": "moral-consensus",
   "metadata": {
    "collapsed": true,
    "jupyter": {
     "outputs_hidden": true
    },
    "tags": []
   },
   "outputs": [
    {
     "data": {
      "text/html": [
       "<div>\n",
       "<style scoped>\n",
       "    .dataframe tbody tr th:only-of-type {\n",
       "        vertical-align: middle;\n",
       "    }\n",
       "\n",
       "    .dataframe tbody tr th {\n",
       "        vertical-align: top;\n",
       "    }\n",
       "\n",
       "    .dataframe thead th {\n",
       "        text-align: right;\n",
       "    }\n",
       "</style>\n",
       "<table border=\"1\" class=\"dataframe\">\n",
       "  <thead>\n",
       "    <tr style=\"text-align: right;\">\n",
       "      <th></th>\n",
       "      <th>class</th>\n",
       "      <th>class_id</th>\n",
       "      <th>uuid</th>\n",
       "      <th>geometry</th>\n",
       "    </tr>\n",
       "  </thead>\n",
       "  <tbody>\n",
       "    <tr>\n",
       "      <th>140</th>\n",
       "      <td>ice_snow</td>\n",
       "      <td>3</td>\n",
       "      <td>140</td>\n",
       "      <td>POLYGON ((637851.038 5193888.205, 637894.774 5...</td>\n",
       "    </tr>\n",
       "    <tr>\n",
       "      <th>122</th>\n",
       "      <td>ice_snow</td>\n",
       "      <td>3</td>\n",
       "      <td>122</td>\n",
       "      <td>POLYGON ((661662.606 5210459.577, 661586.406 5...</td>\n",
       "    </tr>\n",
       "    <tr>\n",
       "      <th>57</th>\n",
       "      <td>forest</td>\n",
       "      <td>1</td>\n",
       "      <td>57</td>\n",
       "      <td>POLYGON ((662224.980 5224793.934, 662330.814 5...</td>\n",
       "    </tr>\n",
       "    <tr>\n",
       "      <th>124</th>\n",
       "      <td>ice_snow</td>\n",
       "      <td>3</td>\n",
       "      <td>124</td>\n",
       "      <td>POLYGON ((660572.673 5214996.629, 660409.903 5...</td>\n",
       "    </tr>\n",
       "    <tr>\n",
       "      <th>41</th>\n",
       "      <td>rock_debris</td>\n",
       "      <td>0</td>\n",
       "      <td>41</td>\n",
       "      <td>POLYGON ((659965.003 5214641.214, 659982.802 5...</td>\n",
       "    </tr>\n",
       "    <tr>\n",
       "      <th>...</th>\n",
       "      <td>...</td>\n",
       "      <td>...</td>\n",
       "      <td>...</td>\n",
       "      <td>...</td>\n",
       "    </tr>\n",
       "    <tr>\n",
       "      <th>20</th>\n",
       "      <td>rock_debris</td>\n",
       "      <td>0</td>\n",
       "      <td>20</td>\n",
       "      <td>POLYGON ((655351.826 5224530.461, 655288.579 5...</td>\n",
       "    </tr>\n",
       "    <tr>\n",
       "      <th>9</th>\n",
       "      <td>rock_debris</td>\n",
       "      <td>0</td>\n",
       "      <td>9</td>\n",
       "      <td>POLYGON ((666185.720 5211784.965, 666189.723 5...</td>\n",
       "    </tr>\n",
       "    <tr>\n",
       "      <th>114</th>\n",
       "      <td>ice_snow</td>\n",
       "      <td>3</td>\n",
       "      <td>114</td>\n",
       "      <td>POLYGON ((657169.170 5215294.216, 657181.336 5...</td>\n",
       "    </tr>\n",
       "    <tr>\n",
       "      <th>83</th>\n",
       "      <td>forest</td>\n",
       "      <td>1</td>\n",
       "      <td>83</td>\n",
       "      <td>POLYGON ((661748.531 5219951.302, 661748.136 5...</td>\n",
       "    </tr>\n",
       "    <tr>\n",
       "      <th>100</th>\n",
       "      <td>grassland</td>\n",
       "      <td>2</td>\n",
       "      <td>100</td>\n",
       "      <td>POLYGON ((655894.513 5213338.093, 655991.386 5...</td>\n",
       "    </tr>\n",
       "  </tbody>\n",
       "</table>\n",
       "<p>102 rows × 4 columns</p>\n",
       "</div>"
      ],
      "text/plain": [
       "           class  class_id  uuid  \\\n",
       "140     ice_snow         3   140   \n",
       "122     ice_snow         3   122   \n",
       "57        forest         1    57   \n",
       "124     ice_snow         3   124   \n",
       "41   rock_debris         0    41   \n",
       "..           ...       ...   ...   \n",
       "20   rock_debris         0    20   \n",
       "9    rock_debris         0     9   \n",
       "114     ice_snow         3   114   \n",
       "83        forest         1    83   \n",
       "100    grassland         2   100   \n",
       "\n",
       "                                              geometry  \n",
       "140  POLYGON ((637851.038 5193888.205, 637894.774 5...  \n",
       "122  POLYGON ((661662.606 5210459.577, 661586.406 5...  \n",
       "57   POLYGON ((662224.980 5224793.934, 662330.814 5...  \n",
       "124  POLYGON ((660572.673 5214996.629, 660409.903 5...  \n",
       "41   POLYGON ((659965.003 5214641.214, 659982.802 5...  \n",
       "..                                                 ...  \n",
       "20   POLYGON ((655351.826 5224530.461, 655288.579 5...  \n",
       "9    POLYGON ((666185.720 5211784.965, 666189.723 5...  \n",
       "114  POLYGON ((657169.170 5215294.216, 657181.336 5...  \n",
       "83   POLYGON ((661748.531 5219951.302, 661748.136 5...  \n",
       "100  POLYGON ((655894.513 5213338.093, 655991.386 5...  \n",
       "\n",
       "[102 rows x 4 columns]"
      ]
     },
     "execution_count": 45,
     "metadata": {},
     "output_type": "execute_result"
    }
   ],
   "source": [
    "polygon_train"
   ]
  },
  {
   "cell_type": "code",
   "execution_count": 46,
   "id": "sexual-toilet",
   "metadata": {},
   "outputs": [
    {
     "data": {
      "text/plain": [
       "WindowsPath('D:/_Programmieren/VU_Automatisierung_Daten/Daten/session7/data/s2_img')"
      ]
     },
     "execution_count": 46,
     "metadata": {},
     "output_type": "execute_result"
    }
   ],
   "source": [
    "base"
   ]
  },
  {
   "cell_type": "code",
   "execution_count": 50,
   "id": "disciplinary-profile",
   "metadata": {},
   "outputs": [
    {
     "name": "stdout",
     "output_type": "stream",
     "text": [
      "D:\\_Programmieren\\VU_Automatisierung_Daten\\Daten\\session7\\data\\s2_img\\T32TPT_20200913T101629_B02_10m.tif\n",
      "D:\\_Programmieren\\VU_Automatisierung_Daten\\Daten\\session7\\data\\s2_img\\T32TPT_20200913T101629_B03_10m.tif\n",
      "D:\\_Programmieren\\VU_Automatisierung_Daten\\Daten\\session7\\data\\s2_img\\T32TPT_20200913T101629_B04_10m.tif\n",
      "D:\\_Programmieren\\VU_Automatisierung_Daten\\Daten\\session7\\data\\s2_img\\T32TPT_20200913T101629_B05_20m.tif\n",
      "D:\\_Programmieren\\VU_Automatisierung_Daten\\Daten\\session7\\data\\s2_img\\T32TPT_20200913T101629_B06_20m.tif\n",
      "D:\\_Programmieren\\VU_Automatisierung_Daten\\Daten\\session7\\data\\s2_img\\T32TPT_20200913T101629_B07_20m.tif\n",
      "D:\\_Programmieren\\VU_Automatisierung_Daten\\Daten\\session7\\data\\s2_img\\T32TPT_20200913T101629_B08_10m.tif\n",
      "D:\\_Programmieren\\VU_Automatisierung_Daten\\Daten\\session7\\data\\s2_img\\T32TPT_20200913T101629_B11_20m.tif\n",
      "D:\\_Programmieren\\VU_Automatisierung_Daten\\Daten\\session7\\data\\s2_img\\T32TPT_20200913T101629_B12_20m.tif\n",
      "D:\\_Programmieren\\VU_Automatisierung_Daten\\Daten\\session7\\data\\s2_img\\T32TPT_20200913T101629_B8A_20m.tif\n",
      "D:\\_Programmieren\\VU_Automatisierung_Daten\\Daten\\session7\\data\\s2_img\\T32TPT_20200913T101629_SCL_20m.tif\n",
      "D:\\_Programmieren\\VU_Automatisierung_Daten\\Daten\\session7\\data\\s2_img\\T32TPT_20200913T101629_TCI_20m.tif\n"
     ]
    }
   ],
   "source": [
    "for band in base.glob(\"*.tif\"):\n",
    "    print(band)"
   ]
  },
  {
   "cell_type": "code",
   "execution_count": 51,
   "id": "muslim-address",
   "metadata": {},
   "outputs": [],
   "source": [
    "dummy_band = \"D:\\_Programmieren\\VU_Automatisierung_Daten\\Daten\\session7\\data\\s2_img\\T32TPT_20200913T101629_B02_10m.tif\"\n",
    "template = {}\n",
    "with rasterio.open(dummy_band, \"r\") as img:\n",
    "    template[\"transform\"] = img.transform\n",
    "    template[\"crs\"] = img.crs\n",
    "    template[\"height\"] = img.height\n",
    "    template[\"width\"] = img.width\n",
    "    "
   ]
  },
  {
   "cell_type": "code",
   "execution_count": 52,
   "id": "material-garage",
   "metadata": {},
   "outputs": [
    {
     "data": {
      "text/plain": [
       "{'transform': Affine(10.0, 0.0, 654000.0,\n",
       "        0.0, -10.0, 5227400.0),\n",
       " 'crs': CRS.from_epsg(32632),\n",
       " 'height': 2726,\n",
       " 'width': 1876}"
      ]
     },
     "execution_count": 52,
     "metadata": {},
     "output_type": "execute_result"
    }
   ],
   "source": [
    "template"
   ]
  },
  {
   "cell_type": "code",
   "execution_count": 57,
   "id": "related-trader",
   "metadata": {},
   "outputs": [],
   "source": [
    "shapes_test = ((geom,value) for geom, value in  zip(polygon_test.geometry, polygon_test.class_id))\n",
    "label_test = features.rasterize(shapes = shapes_test, \n",
    "                  out_shape = (template[\"height\"],template[\"width\"]), \n",
    "                   transform = template[\"transform\"],\n",
    "                   fill = -1,\n",
    "                   all_touched = False,\n",
    "                   dtype = np.float32)"
   ]
  },
  {
   "cell_type": "code",
   "execution_count": 59,
   "id": "lyric-vault",
   "metadata": {},
   "outputs": [
    {
     "data": {
      "text/plain": [
       "(2726, 1876)"
      ]
     },
     "execution_count": 59,
     "metadata": {},
     "output_type": "execute_result"
    }
   ],
   "source": [
    "label_test.shape #reihen, spalten"
   ]
  },
  {
   "cell_type": "code",
   "execution_count": 61,
   "id": "engaging-minnesota",
   "metadata": {},
   "outputs": [],
   "source": [
    "shapes_train = ((geom,value) for geom, value in  zip(polygon_train.geometry, polygon_train.class_id))\n",
    "label_train = features.rasterize(shapes = shapes_train, \n",
    "                  out_shape = (template[\"height\"],template[\"width\"]), \n",
    "                   transform = template[\"transform\"],\n",
    "                   fill = -1,\n",
    "                   all_touched = False,\n",
    "                   dtype = np.float32)"
   ]
  },
  {
   "cell_type": "code",
   "execution_count": 63,
   "id": "jewish-bronze",
   "metadata": {},
   "outputs": [
    {
     "data": {
      "text/plain": [
       "(2726, 1876)"
      ]
     },
     "execution_count": 63,
     "metadata": {},
     "output_type": "execute_result"
    }
   ],
   "source": [
    "label_train.shape"
   ]
  },
  {
   "cell_type": "code",
   "execution_count": 68,
   "id": "adopted-commission",
   "metadata": {},
   "outputs": [],
   "source": [
    "bands = []\n",
    "for band in base.glob(\"*.tif\"):\n",
    "    band_id = band.stem.split(\"_\")[2]\n",
    "    if not band_id in [\"SCL\",\"TCI\"]:\n",
    "        #print(band)\n",
    "        bands.append(read_img(band))"
   ]
  },
  {
   "cell_type": "code",
   "execution_count": 81,
   "id": "respected-humor",
   "metadata": {},
   "outputs": [
    {
     "name": "stdout",
     "output_type": "stream",
     "text": [
      "(2726, 1876, 10)\n"
     ]
    }
   ],
   "source": [
    "bands = np.dstack(bands)\n",
    "print(bands.shape)"
   ]
  },
  {
   "cell_type": "code",
   "execution_count": 90,
   "id": "crazy-circumstances",
   "metadata": {},
   "outputs": [],
   "source": [
    "X_train = bands[label_train >= 0,:]\n",
    "y_train = label_train[label_train>=0]\n",
    "\n",
    "X_test = bands[label_test >= 0,:]\n",
    "y_test = label_test[label_test>=0]"
   ]
  },
  {
   "cell_type": "code",
   "execution_count": 91,
   "id": "cooked-ridge",
   "metadata": {},
   "outputs": [
    {
     "name": "stdout",
     "output_type": "stream",
     "text": [
      "(82449, 10)\n",
      "(82449,)\n"
     ]
    }
   ],
   "source": [
    "print(X_test.shape)\n",
    "print(y_test.shape)"
   ]
  },
  {
   "cell_type": "code",
   "execution_count": 93,
   "id": "supported-fishing",
   "metadata": {},
   "outputs": [],
   "source": [
    "rf = RF (n_estimators = 20, n_jobs = -1, oob_score = True, random_state = 12)"
   ]
  },
  {
   "cell_type": "code",
   "execution_count": 94,
   "id": "talented-journalism",
   "metadata": {},
   "outputs": [
    {
     "name": "stderr",
     "output_type": "stream",
     "text": [
      "C:\\Users\\ronny\\.conda\\envs\\rs\\lib\\site-packages\\sklearn\\ensemble\\_forest.py:541: UserWarning: Some inputs do not have OOB scores. This probably means too few trees were used to compute any reliable oob estimates.\n",
      "  warn(\"Some inputs do not have OOB scores. \"\n",
      "C:\\Users\\ronny\\.conda\\envs\\rs\\lib\\site-packages\\sklearn\\ensemble\\_forest.py:546: RuntimeWarning: invalid value encountered in true_divide\n",
      "  predictions[k].sum(axis=1)[:, np.newaxis])\n"
     ]
    }
   ],
   "source": [
    "\n",
    "rf.fit(X_train, y_train)\n",
    "rows, cols, n_bands = bands.shape\n",
    "X_pred = bands.reshape((rows*cols,n_bands))\n",
    "y_pred = rf.predict(X_pred)\n",
    "y_pred_2d = y_pred.reshape((rows,cols))\n",
    "\n",
    "with rasterio.open(\n",
    "    \"prediction.tif\",\n",
    "    \"w\",\n",
    "    driver = \"GTiff\",\n",
    "    height = rows,\n",
    "    width = cols,\n",
    "    count = 1,\n",
    "    dtype = y_pred_2d.dtype,\n",
    "    crs=template[\"crs\"],\n",
    "    transform = template[\"transform\"]) as fobj:\n",
    "    fobj.write(y_pred_2d, 1)"
   ]
  }
 ],
 "metadata": {
  "kernelspec": {
   "display_name": "Python 3",
   "language": "python",
   "name": "python3"
  },
  "language_info": {
   "codemirror_mode": {
    "name": "ipython",
    "version": 3
   },
   "file_extension": ".py",
   "mimetype": "text/x-python",
   "name": "python",
   "nbconvert_exporter": "python",
   "pygments_lexer": "ipython3",
   "version": "3.7.10"
  }
 },
 "nbformat": 4,
 "nbformat_minor": 5
}

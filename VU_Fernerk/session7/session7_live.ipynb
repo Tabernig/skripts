{
 "cells": [
  {
   "cell_type": "code",
   "execution_count": 3,
   "id": "opposite-tuning",
   "metadata": {
    "tags": []
   },
   "outputs": [],
   "source": [
    "import os\n",
    "from pathlib import Path\n",
    "\n",
    "import geopandas as gpd\n",
    "import rasterio\n",
    "from rasterio import features\n",
    "\n",
    "import numpy as np\n",
    "import matplotlib.pyplot as plt\n",
    "from sklearn.ensemble import RandomForestClassifier as RF\n",
    "from sklearn.model_selection import train_test_split\n",
    "from sklearn.metrics import confusion_matrix\n"
   ]
  },
  {
   "cell_type": "code",
   "execution_count": 5,
   "id": "latest-horizon",
   "metadata": {},
   "outputs": [],
   "source": [
    "def read_img(path_to_img):\n",
    "    with rasterio.open(path_to_img, \"r\") as img:\n",
    "        return img.read(1).astype(np.float32)"
   ]
  },
  {
   "cell_type": "code",
   "execution_count": 7,
   "id": "critical-savage",
   "metadata": {},
   "outputs": [
    {
     "name": "stderr",
     "output_type": "stream",
     "text": [
      "C:\\Users\\ronny\\.conda\\envs\\rs\\lib\\site-packages\\geopandas\\geodataframe.py:577: RuntimeWarning: Sequential read of iterator was interrupted. Resetting iterator. This can negatively impact the performance.\n",
      "  for feature in features_lst:\n"
     ]
    }
   ],
   "source": [
    "# vector data from last session\n",
    "gt = gpd.read_file(\"D:\\_Programmieren\\VU_Automatisierung_Daten\\Daten\\session7\\data\\ground_truth_vector\\ground_truth.gpkg\")\n",
    "\n",
    "# satellite data from last session\n",
    "base = Path(\"D:\\_Programmieren\\VU_Automatisierung_Daten\\Daten\\session7\\data\\s2_img\")"
   ]
  },
  {
   "cell_type": "code",
   "execution_count": 10,
   "id": "crazy-journalism",
   "metadata": {},
   "outputs": [
    {
     "data": {
      "text/html": [
       "<div>\n",
       "<style scoped>\n",
       "    .dataframe tbody tr th:only-of-type {\n",
       "        vertical-align: middle;\n",
       "    }\n",
       "\n",
       "    .dataframe tbody tr th {\n",
       "        vertical-align: top;\n",
       "    }\n",
       "\n",
       "    .dataframe thead th {\n",
       "        text-align: right;\n",
       "    }\n",
       "</style>\n",
       "<table border=\"1\" class=\"dataframe\">\n",
       "  <thead>\n",
       "    <tr style=\"text-align: right;\">\n",
       "      <th></th>\n",
       "      <th>class</th>\n",
       "      <th>class_id</th>\n",
       "      <th>uuid</th>\n",
       "      <th>geometry</th>\n",
       "    </tr>\n",
       "  </thead>\n",
       "  <tbody>\n",
       "    <tr>\n",
       "      <th>0</th>\n",
       "      <td>rock_debris</td>\n",
       "      <td>0</td>\n",
       "      <td>0</td>\n",
       "      <td>POLYGON ((659758.988 5211279.785, 659360.151 5...</td>\n",
       "    </tr>\n",
       "    <tr>\n",
       "      <th>1</th>\n",
       "      <td>rock_debris</td>\n",
       "      <td>0</td>\n",
       "      <td>1</td>\n",
       "      <td>POLYGON ((661859.413 5210692.756, 661855.003 5...</td>\n",
       "    </tr>\n",
       "    <tr>\n",
       "      <th>2</th>\n",
       "      <td>rock_debris</td>\n",
       "      <td>0</td>\n",
       "      <td>2</td>\n",
       "      <td>POLYGON ((662028.964 5211059.152, 662084.122 5...</td>\n",
       "    </tr>\n",
       "    <tr>\n",
       "      <th>3</th>\n",
       "      <td>rock_debris</td>\n",
       "      <td>0</td>\n",
       "      <td>3</td>\n",
       "      <td>POLYGON ((662099.907 5210904.814, 662098.019 5...</td>\n",
       "    </tr>\n",
       "    <tr>\n",
       "      <th>4</th>\n",
       "      <td>rock_debris</td>\n",
       "      <td>0</td>\n",
       "      <td>4</td>\n",
       "      <td>POLYGON ((663226.267 5210963.338, 663240.054 5...</td>\n",
       "    </tr>\n",
       "    <tr>\n",
       "      <th>...</th>\n",
       "      <td>...</td>\n",
       "      <td>...</td>\n",
       "      <td>...</td>\n",
       "      <td>...</td>\n",
       "    </tr>\n",
       "    <tr>\n",
       "      <th>142</th>\n",
       "      <td>ice_snow</td>\n",
       "      <td>3</td>\n",
       "      <td>142</td>\n",
       "      <td>POLYGON ((636712.437 5193481.859, 636598.835 5...</td>\n",
       "    </tr>\n",
       "    <tr>\n",
       "      <th>143</th>\n",
       "      <td>ice_snow</td>\n",
       "      <td>3</td>\n",
       "      <td>143</td>\n",
       "      <td>POLYGON ((662169.814 5204849.069, 661932.124 5...</td>\n",
       "    </tr>\n",
       "    <tr>\n",
       "      <th>144</th>\n",
       "      <td>ice_snow</td>\n",
       "      <td>3</td>\n",
       "      <td>144</td>\n",
       "      <td>POLYGON ((664880.537 5204863.051, 664807.133 5...</td>\n",
       "    </tr>\n",
       "    <tr>\n",
       "      <th>145</th>\n",
       "      <td>ice_snow</td>\n",
       "      <td>3</td>\n",
       "      <td>145</td>\n",
       "      <td>POLYGON ((702683.851 5216366.583, 702295.855 5...</td>\n",
       "    </tr>\n",
       "    <tr>\n",
       "      <th>146</th>\n",
       "      <td>ice_snow</td>\n",
       "      <td>3</td>\n",
       "      <td>146</td>\n",
       "      <td>POLYGON ((701182.883 5216199.477, 701175.583 5...</td>\n",
       "    </tr>\n",
       "  </tbody>\n",
       "</table>\n",
       "<p>147 rows × 4 columns</p>\n",
       "</div>"
      ],
      "text/plain": [
       "           class  class_id  uuid  \\\n",
       "0    rock_debris         0     0   \n",
       "1    rock_debris         0     1   \n",
       "2    rock_debris         0     2   \n",
       "3    rock_debris         0     3   \n",
       "4    rock_debris         0     4   \n",
       "..           ...       ...   ...   \n",
       "142     ice_snow         3   142   \n",
       "143     ice_snow         3   143   \n",
       "144     ice_snow         3   144   \n",
       "145     ice_snow         3   145   \n",
       "146     ice_snow         3   146   \n",
       "\n",
       "                                              geometry  \n",
       "0    POLYGON ((659758.988 5211279.785, 659360.151 5...  \n",
       "1    POLYGON ((661859.413 5210692.756, 661855.003 5...  \n",
       "2    POLYGON ((662028.964 5211059.152, 662084.122 5...  \n",
       "3    POLYGON ((662099.907 5210904.814, 662098.019 5...  \n",
       "4    POLYGON ((663226.267 5210963.338, 663240.054 5...  \n",
       "..                                                 ...  \n",
       "142  POLYGON ((636712.437 5193481.859, 636598.835 5...  \n",
       "143  POLYGON ((662169.814 5204849.069, 661932.124 5...  \n",
       "144  POLYGON ((664880.537 5204863.051, 664807.133 5...  \n",
       "145  POLYGON ((702683.851 5216366.583, 702295.855 5...  \n",
       "146  POLYGON ((701182.883 5216199.477, 701175.583 5...  \n",
       "\n",
       "[147 rows x 4 columns]"
      ]
     },
     "execution_count": 10,
     "metadata": {},
     "output_type": "execute_result"
    }
   ],
   "source": [
    "gt"
   ]
  },
  {
   "cell_type": "code",
   "execution_count": 16,
   "id": "colored-competition",
   "metadata": {},
   "outputs": [
    {
     "data": {
      "text/plain": [
       "(array(['forest', 'grassland', 'ice_snow', 'rock_debris'], dtype=object),\n",
       " array([35, 26, 36, 50], dtype=int64))"
      ]
     },
     "execution_count": 16,
     "metadata": {},
     "output_type": "execute_result"
    }
   ],
   "source": [
    "np.unique(gt[\"class\"], return_counts = True)"
   ]
  },
  {
   "cell_type": "code",
   "execution_count": 39,
   "id": "measured-albany",
   "metadata": {},
   "outputs": [],
   "source": [
    "#idxs = list(gt.index)\n",
    "idxs = np.arange(len(gt))"
   ]
  },
  {
   "cell_type": "code",
   "execution_count": 40,
   "id": "opponent-carol",
   "metadata": {},
   "outputs": [],
   "source": [
    "idx_train, idx_test = train_test_split(idxs, random_state = 12, test_size = 0.3, stratify = gt[\"class_id\"])"
   ]
  },
  {
   "cell_type": "code",
   "execution_count": 31,
   "id": "polish-possibility",
   "metadata": {
    "collapsed": true,
    "jupyter": {
     "outputs_hidden": true
    },
    "tags": []
   },
   "outputs": [
    {
     "name": "stdout",
     "output_type": "stream",
     "text": [
      "Help on function train_test_split in module sklearn.model_selection._split:\n",
      "\n",
      "train_test_split(*arrays, test_size=None, train_size=None, random_state=None, shuffle=True, stratify=None)\n",
      "    Split arrays or matrices into random train and test subsets\n",
      "    \n",
      "    Quick utility that wraps input validation and\n",
      "    ``next(ShuffleSplit().split(X, y))`` and application to input data\n",
      "    into a single call for splitting (and optionally subsampling) data in a\n",
      "    oneliner.\n",
      "    \n",
      "    Read more in the :ref:`User Guide <cross_validation>`.\n",
      "    \n",
      "    Parameters\n",
      "    ----------\n",
      "    *arrays : sequence of indexables with same length / shape[0]\n",
      "        Allowed inputs are lists, numpy arrays, scipy-sparse\n",
      "        matrices or pandas dataframes.\n",
      "    \n",
      "    test_size : float or int, default=None\n",
      "        If float, should be between 0.0 and 1.0 and represent the proportion\n",
      "        of the dataset to include in the test split. If int, represents the\n",
      "        absolute number of test samples. If None, the value is set to the\n",
      "        complement of the train size. If ``train_size`` is also None, it will\n",
      "        be set to 0.25.\n",
      "    \n",
      "    train_size : float or int, default=None\n",
      "        If float, should be between 0.0 and 1.0 and represent the\n",
      "        proportion of the dataset to include in the train split. If\n",
      "        int, represents the absolute number of train samples. If None,\n",
      "        the value is automatically set to the complement of the test size.\n",
      "    \n",
      "    random_state : int, RandomState instance or None, default=None\n",
      "        Controls the shuffling applied to the data before applying the split.\n",
      "        Pass an int for reproducible output across multiple function calls.\n",
      "        See :term:`Glossary <random_state>`.\n",
      "    \n",
      "    \n",
      "    shuffle : bool, default=True\n",
      "        Whether or not to shuffle the data before splitting. If shuffle=False\n",
      "        then stratify must be None.\n",
      "    \n",
      "    stratify : array-like, default=None\n",
      "        If not None, data is split in a stratified fashion, using this as\n",
      "        the class labels.\n",
      "        Read more in the :ref:`User Guide <stratification>`.\n",
      "    \n",
      "    Returns\n",
      "    -------\n",
      "    splitting : list, length=2 * len(arrays)\n",
      "        List containing train-test split of inputs.\n",
      "    \n",
      "        .. versionadded:: 0.16\n",
      "            If the input is sparse, the output will be a\n",
      "            ``scipy.sparse.csr_matrix``. Else, output type is the same as the\n",
      "            input type.\n",
      "    \n",
      "    Examples\n",
      "    --------\n",
      "    >>> import numpy as np\n",
      "    >>> from sklearn.model_selection import train_test_split\n",
      "    >>> X, y = np.arange(10).reshape((5, 2)), range(5)\n",
      "    >>> X\n",
      "    array([[0, 1],\n",
      "           [2, 3],\n",
      "           [4, 5],\n",
      "           [6, 7],\n",
      "           [8, 9]])\n",
      "    >>> list(y)\n",
      "    [0, 1, 2, 3, 4]\n",
      "    \n",
      "    >>> X_train, X_test, y_train, y_test = train_test_split(\n",
      "    ...     X, y, test_size=0.33, random_state=42)\n",
      "    ...\n",
      "    >>> X_train\n",
      "    array([[4, 5],\n",
      "           [0, 1],\n",
      "           [6, 7]])\n",
      "    >>> y_train\n",
      "    [2, 0, 3]\n",
      "    >>> X_test\n",
      "    array([[2, 3],\n",
      "           [8, 9]])\n",
      "    >>> y_test\n",
      "    [1, 4]\n",
      "    \n",
      "    >>> train_test_split(y, shuffle=False)\n",
      "    [[0, 1, 2], [3, 4]]\n",
      "\n"
     ]
    }
   ],
   "source": [
    "help(train_test_split)"
   ]
  },
  {
   "cell_type": "code",
   "execution_count": 41,
   "id": "motivated-selling",
   "metadata": {},
   "outputs": [
    {
     "name": "stdout",
     "output_type": "stream",
     "text": [
      "(102,)\n",
      "(45,)\n"
     ]
    }
   ],
   "source": [
    "print(idx_train.shape)\n",
    "print(idx_test.shape)"
   ]
  },
  {
   "cell_type": "code",
   "execution_count": 44,
   "id": "single-listening",
   "metadata": {},
   "outputs": [],
   "source": [
    "polygon_train = gt.iloc[idx_train,:]\n",
    "polygon_test = gt.iloc[idx_test,:]"
   ]
  },
  {
   "cell_type": "code",
   "execution_count": 45,
   "id": "turkish-image",
   "metadata": {
    "collapsed": true,
    "jupyter": {
     "outputs_hidden": true
    },
    "tags": []
   },
   "outputs": [
    {
     "data": {
      "text/html": [
       "<div>\n",
       "<style scoped>\n",
       "    .dataframe tbody tr th:only-of-type {\n",
       "        vertical-align: middle;\n",
       "    }\n",
       "\n",
       "    .dataframe tbody tr th {\n",
       "        vertical-align: top;\n",
       "    }\n",
       "\n",
       "    .dataframe thead th {\n",
       "        text-align: right;\n",
       "    }\n",
       "</style>\n",
       "<table border=\"1\" class=\"dataframe\">\n",
       "  <thead>\n",
       "    <tr style=\"text-align: right;\">\n",
       "      <th></th>\n",
       "      <th>class</th>\n",
       "      <th>class_id</th>\n",
       "      <th>uuid</th>\n",
       "      <th>geometry</th>\n",
       "    </tr>\n",
       "  </thead>\n",
       "  <tbody>\n",
       "    <tr>\n",
       "      <th>140</th>\n",
       "      <td>ice_snow</td>\n",
       "      <td>3</td>\n",
       "      <td>140</td>\n",
       "      <td>POLYGON ((637851.038 5193888.205, 637894.774 5...</td>\n",
       "    </tr>\n",
       "    <tr>\n",
       "      <th>122</th>\n",
       "      <td>ice_snow</td>\n",
       "      <td>3</td>\n",
       "      <td>122</td>\n",
       "      <td>POLYGON ((661662.606 5210459.577, 661586.406 5...</td>\n",
       "    </tr>\n",
       "    <tr>\n",
       "      <th>57</th>\n",
       "      <td>forest</td>\n",
       "      <td>1</td>\n",
       "      <td>57</td>\n",
       "      <td>POLYGON ((662224.980 5224793.934, 662330.814 5...</td>\n",
       "    </tr>\n",
       "    <tr>\n",
       "      <th>124</th>\n",
       "      <td>ice_snow</td>\n",
       "      <td>3</td>\n",
       "      <td>124</td>\n",
       "      <td>POLYGON ((660572.673 5214996.629, 660409.903 5...</td>\n",
       "    </tr>\n",
       "    <tr>\n",
       "      <th>41</th>\n",
       "      <td>rock_debris</td>\n",
       "      <td>0</td>\n",
       "      <td>41</td>\n",
       "      <td>POLYGON ((659965.003 5214641.214, 659982.802 5...</td>\n",
       "    </tr>\n",
       "    <tr>\n",
       "      <th>...</th>\n",
       "      <td>...</td>\n",
       "      <td>...</td>\n",
       "      <td>...</td>\n",
       "      <td>...</td>\n",
       "    </tr>\n",
       "    <tr>\n",
       "      <th>20</th>\n",
       "      <td>rock_debris</td>\n",
       "      <td>0</td>\n",
       "      <td>20</td>\n",
       "      <td>POLYGON ((655351.826 5224530.461, 655288.579 5...</td>\n",
       "    </tr>\n",
       "    <tr>\n",
       "      <th>9</th>\n",
       "      <td>rock_debris</td>\n",
       "      <td>0</td>\n",
       "      <td>9</td>\n",
       "      <td>POLYGON ((666185.720 5211784.965, 666189.723 5...</td>\n",
       "    </tr>\n",
       "    <tr>\n",
       "      <th>114</th>\n",
       "      <td>ice_snow</td>\n",
       "      <td>3</td>\n",
       "      <td>114</td>\n",
       "      <td>POLYGON ((657169.170 5215294.216, 657181.336 5...</td>\n",
       "    </tr>\n",
       "    <tr>\n",
       "      <th>83</th>\n",
       "      <td>forest</td>\n",
       "      <td>1</td>\n",
       "      <td>83</td>\n",
       "      <td>POLYGON ((661748.531 5219951.302, 661748.136 5...</td>\n",
       "    </tr>\n",
       "    <tr>\n",
       "      <th>100</th>\n",
       "      <td>grassland</td>\n",
       "      <td>2</td>\n",
       "      <td>100</td>\n",
       "      <td>POLYGON ((655894.513 5213338.093, 655991.386 5...</td>\n",
       "    </tr>\n",
       "  </tbody>\n",
       "</table>\n",
       "<p>102 rows × 4 columns</p>\n",
       "</div>"
      ],
      "text/plain": [
       "           class  class_id  uuid  \\\n",
       "140     ice_snow         3   140   \n",
       "122     ice_snow         3   122   \n",
       "57        forest         1    57   \n",
       "124     ice_snow         3   124   \n",
       "41   rock_debris         0    41   \n",
       "..           ...       ...   ...   \n",
       "20   rock_debris         0    20   \n",
       "9    rock_debris         0     9   \n",
       "114     ice_snow         3   114   \n",
       "83        forest         1    83   \n",
       "100    grassland         2   100   \n",
       "\n",
       "                                              geometry  \n",
       "140  POLYGON ((637851.038 5193888.205, 637894.774 5...  \n",
       "122  POLYGON ((661662.606 5210459.577, 661586.406 5...  \n",
       "57   POLYGON ((662224.980 5224793.934, 662330.814 5...  \n",
       "124  POLYGON ((660572.673 5214996.629, 660409.903 5...  \n",
       "41   POLYGON ((659965.003 5214641.214, 659982.802 5...  \n",
       "..                                                 ...  \n",
       "20   POLYGON ((655351.826 5224530.461, 655288.579 5...  \n",
       "9    POLYGON ((666185.720 5211784.965, 666189.723 5...  \n",
       "114  POLYGON ((657169.170 5215294.216, 657181.336 5...  \n",
       "83   POLYGON ((661748.531 5219951.302, 661748.136 5...  \n",
       "100  POLYGON ((655894.513 5213338.093, 655991.386 5...  \n",
       "\n",
       "[102 rows x 4 columns]"
      ]
     },
     "execution_count": 45,
     "metadata": {},
     "output_type": "execute_result"
    }
   ],
   "source": [
    "polygon_train"
   ]
  },
  {
   "cell_type": "code",
   "execution_count": 46,
   "id": "recreational-accountability",
   "metadata": {},
   "outputs": [
    {
     "data": {
      "text/plain": [
       "WindowsPath('D:/_Programmieren/VU_Automatisierung_Daten/Daten/session7/data/s2_img')"
      ]
     },
     "execution_count": 46,
     "metadata": {},
     "output_type": "execute_result"
    }
   ],
   "source": [
    "base"
   ]
  },
  {
   "cell_type": "code",
   "execution_count": 50,
   "id": "welcome-magnet",
   "metadata": {},
   "outputs": [
    {
     "name": "stdout",
     "output_type": "stream",
     "text": [
      "D:\\_Programmieren\\VU_Automatisierung_Daten\\Daten\\session7\\data\\s2_img\\T32TPT_20200913T101629_B02_10m.tif\n",
      "D:\\_Programmieren\\VU_Automatisierung_Daten\\Daten\\session7\\data\\s2_img\\T32TPT_20200913T101629_B03_10m.tif\n",
      "D:\\_Programmieren\\VU_Automatisierung_Daten\\Daten\\session7\\data\\s2_img\\T32TPT_20200913T101629_B04_10m.tif\n",
      "D:\\_Programmieren\\VU_Automatisierung_Daten\\Daten\\session7\\data\\s2_img\\T32TPT_20200913T101629_B05_20m.tif\n",
      "D:\\_Programmieren\\VU_Automatisierung_Daten\\Daten\\session7\\data\\s2_img\\T32TPT_20200913T101629_B06_20m.tif\n",
      "D:\\_Programmieren\\VU_Automatisierung_Daten\\Daten\\session7\\data\\s2_img\\T32TPT_20200913T101629_B07_20m.tif\n",
      "D:\\_Programmieren\\VU_Automatisierung_Daten\\Daten\\session7\\data\\s2_img\\T32TPT_20200913T101629_B08_10m.tif\n",
      "D:\\_Programmieren\\VU_Automatisierung_Daten\\Daten\\session7\\data\\s2_img\\T32TPT_20200913T101629_B11_20m.tif\n",
      "D:\\_Programmieren\\VU_Automatisierung_Daten\\Daten\\session7\\data\\s2_img\\T32TPT_20200913T101629_B12_20m.tif\n",
      "D:\\_Programmieren\\VU_Automatisierung_Daten\\Daten\\session7\\data\\s2_img\\T32TPT_20200913T101629_B8A_20m.tif\n",
      "D:\\_Programmieren\\VU_Automatisierung_Daten\\Daten\\session7\\data\\s2_img\\T32TPT_20200913T101629_SCL_20m.tif\n",
      "D:\\_Programmieren\\VU_Automatisierung_Daten\\Daten\\session7\\data\\s2_img\\T32TPT_20200913T101629_TCI_20m.tif\n"
     ]
    }
   ],
   "source": [
    "for band in base.glob(\"*.tif\"):\n",
    "    print(band)"
   ]
  },
  {
   "cell_type": "code",
   "execution_count": 51,
   "id": "spoken-evans",
   "metadata": {},
   "outputs": [],
   "source": [
    "dummy_band = \"D:\\_Programmieren\\VU_Automatisierung_Daten\\Daten\\session7\\data\\s2_img\\T32TPT_20200913T101629_B02_10m.tif\"\n",
    "template = {}\n",
    "with rasterio.open(dummy_band, \"r\") as img:\n",
    "    template[\"transform\"] = img.transform\n",
    "    template[\"crs\"] = img.crs\n",
    "    template[\"height\"] = img.height\n",
    "    template[\"width\"] = img.width\n",
    "    "
   ]
  },
  {
   "cell_type": "code",
   "execution_count": 52,
   "id": "large-summary",
   "metadata": {},
   "outputs": [
    {
     "data": {
      "text/plain": [
       "{'transform': Affine(10.0, 0.0, 654000.0,\n",
       "        0.0, -10.0, 5227400.0),\n",
       " 'crs': CRS.from_epsg(32632),\n",
       " 'height': 2726,\n",
       " 'width': 1876}"
      ]
     },
     "execution_count": 52,
     "metadata": {},
     "output_type": "execute_result"
    }
   ],
   "source": [
    "template"
   ]
  },
  {
   "cell_type": "code",
   "execution_count": 57,
   "id": "unavailable-aquatic",
   "metadata": {},
   "outputs": [],
   "source": [
    "shapes_test = ((geom,value) for geom, value in  zip(polygon_test.geometry, polygon_test.class_id))\n",
    "label_test = features.rasterize(shapes = shapes_test, \n",
    "                  out_shape = (template[\"height\"],template[\"width\"]), \n",
    "                   transform = template[\"transform\"],\n",
    "                   fill = -1,\n",
    "                   all_touched = False,\n",
    "                   dtype = np.float32)"
   ]
  },
  {
   "cell_type": "code",
   "execution_count": 59,
   "id": "broke-funeral",
   "metadata": {},
   "outputs": [
    {
     "data": {
      "text/plain": [
       "(2726, 1876)"
      ]
     },
     "execution_count": 59,
     "metadata": {},
     "output_type": "execute_result"
    }
   ],
   "source": [
    "label_test.shape #reihen, spalten"
   ]
  },
  {
   "cell_type": "code",
   "execution_count": 61,
   "id": "introductory-pattern",
   "metadata": {},
   "outputs": [],
   "source": [
    "shapes_train = ((geom,value) for geom, value in  zip(polygon_train.geometry, polygon_train.class_id))\n",
    "label_train = features.rasterize(shapes = shapes_train, \n",
    "                  out_shape = (template[\"height\"],template[\"width\"]), \n",
    "                   transform = template[\"transform\"],\n",
    "                   fill = -1,\n",
    "                   all_touched = False,\n",
    "                   dtype = np.float32)"
   ]
  },
  {
   "cell_type": "code",
   "execution_count": 63,
   "id": "nutritional-country",
   "metadata": {},
   "outputs": [
    {
     "data": {
      "text/plain": [
       "(2726, 1876)"
      ]
     },
     "execution_count": 63,
     "metadata": {},
     "output_type": "execute_result"
    }
   ],
   "source": [
    "label_train.shape"
   ]
  },
  {
   "cell_type": "code",
   "execution_count": 68,
   "id": "blank-military",
   "metadata": {},
   "outputs": [],
   "source": [
    "bands = []\n",
    "for band in base.glob(\"*.tif\"):\n",
    "    band_id = band.stem.split(\"_\")[2]\n",
    "    if not band_id in [\"SCL\",\"TCI\"]:\n",
    "        #print(band)\n",
    "        bands.append(read_img(band))"
   ]
  },
  {
   "cell_type": "code",
   "execution_count": 81,
   "id": "spoken-introduction",
   "metadata": {},
   "outputs": [
    {
     "name": "stdout",
     "output_type": "stream",
     "text": [
      "(2726, 1876, 10)\n"
     ]
    }
   ],
   "source": [
    "bands = np.dstack(bands)\n",
    "print(bands.shape)"
   ]
  },
  {
   "cell_type": "code",
   "execution_count": 90,
   "id": "decimal-routine",
   "metadata": {},
   "outputs": [],
   "source": [
    "X_train = bands[label_train >= 0,:]\n",
    "y_train = label_train[label_train>=0]\n",
    "\n",
    "X_test = bands[label_test >= 0,:]\n",
    "y_test = label_test[label_test>=0]"
   ]
  },
  {
   "cell_type": "code",
   "execution_count": 91,
   "id": "sealed-security",
   "metadata": {},
   "outputs": [
    {
     "name": "stdout",
     "output_type": "stream",
     "text": [
      "(82449, 10)\n",
      "(82449,)\n"
     ]
    }
   ],
   "source": [
    "print(X_test.shape)\n",
    "print(y_test.shape)"
   ]
  },
  {
   "cell_type": "code",
   "execution_count": 93,
   "id": "korean-completion",
   "metadata": {},
   "outputs": [],
   "source": [
    "rf = RF (n_estimators = 20, n_jobs = -1, oob_score = True, random_state = 12)"
   ]
  },
  {
   "cell_type": "code",
   "execution_count": 95,
   "id": "disturbed-surprise",
   "metadata": {},
   "outputs": [
    {
     "name": "stderr",
     "output_type": "stream",
     "text": [
      "C:\\Users\\ronny\\.conda\\envs\\rs\\lib\\site-packages\\sklearn\\ensemble\\_forest.py:541: UserWarning: Some inputs do not have OOB scores. This probably means too few trees were used to compute any reliable oob estimates.\n",
      "  warn(\"Some inputs do not have OOB scores. \"\n",
      "C:\\Users\\ronny\\.conda\\envs\\rs\\lib\\site-packages\\sklearn\\ensemble\\_forest.py:546: RuntimeWarning: invalid value encountered in true_divide\n",
      "  predictions[k].sum(axis=1)[:, np.newaxis])\n"
     ]
    }
   ],
   "source": [
    "\n",
    "rf.fit(X_train, y_train)\n",
    "rows, cols, n_bands = bands.shape\n",
    "X_pred = bands.reshape((rows*cols,n_bands))\n",
    "y_pred = rf.predict(X_pred)\n",
    "y_pred_2d = y_pred.reshape((rows,cols))\n",
    "\n",
    "with rasterio.open(\n",
    "    \"prediction.tif\",\n",
    "    \"w\",\n",
    "    driver = \"GTiff\",\n",
    "    height = rows,\n",
    "    width = cols,\n",
    "    count = 1,\n",
    "    dtype = y_pred_2d.dtype,\n",
    "    crs=template[\"crs\"],\n",
    "    transform = template[\"transform\"]) as fobj:\n",
    "    fobj.write(y_pred_2d, 1)"
   ]
  },
  {
   "cell_type": "code",
   "execution_count": 99,
   "id": "becoming-nowhere",
   "metadata": {},
   "outputs": [],
   "source": [
    "y_pred_test = rf.predict(X_test)"
   ]
  },
  {
   "cell_type": "code",
   "execution_count": 101,
   "id": "reduced-shannon",
   "metadata": {},
   "outputs": [
    {
     "data": {
      "text/plain": [
       "array([2., 2., 2., ..., 3., 3., 3.], dtype=float32)"
      ]
     },
     "execution_count": 101,
     "metadata": {},
     "output_type": "execute_result"
    }
   ],
   "source": [
    "y_pred_test"
   ]
  },
  {
   "cell_type": "code",
   "execution_count": 103,
   "id": "guided-bruce",
   "metadata": {},
   "outputs": [],
   "source": [
    "from sklearn.metrics import confusion_matrix, plot_confusion_matrix"
   ]
  },
  {
   "cell_type": "code",
   "execution_count": 106,
   "id": "horizontal-burton",
   "metadata": {},
   "outputs": [
    {
     "data": {
      "text/plain": [
       "array([[22479,     6,     2,    45],\n",
       "       [    0, 20438,   145,     0],\n",
       "       [  507,   790, 13775,     0],\n",
       "       [  661,     0,     0, 23601]], dtype=int64)"
      ]
     },
     "execution_count": 106,
     "metadata": {},
     "output_type": "execute_result"
    }
   ],
   "source": [
    "cnf_mat = confusion_matrix(y_test, y_pred_test)\n",
    "cnf_mat"
   ]
  },
  {
   "cell_type": "code",
   "execution_count": 110,
   "id": "imposed-artist",
   "metadata": {},
   "outputs": [
    {
     "data": {
      "text/plain": [
       "<sklearn.metrics._plot.confusion_matrix.ConfusionMatrixDisplay at 0x1e38011d808>"
      ]
     },
     "execution_count": 110,
     "metadata": {},
     "output_type": "execute_result"
    },
    {
     "data": {
      "image/png": "[encoded data removed]",
      "text/plain": [
       "<Figure size 432x288 with 2 Axes>"
      ]
     },
     "metadata": {
      "needs_background": "light"
     },
     "output_type": "display_data"
    }
   ],
   "source": [
    "labels = [\"rock\",\"forest\",\"grassland\",\"ice_snow\"]\n",
    "plot_confusion_matrix(rf, X_test, y_test,display_labels=labels)"
   ]
  },
  {
   "cell_type": "code",
   "execution_count": 117,
   "id": "twenty-staff",
   "metadata": {},
   "outputs": [
    {
     "data": {
      "text/plain": [
       "0.9738505015221531"
      ]
     },
     "execution_count": 117,
     "metadata": {},
     "output_type": "execute_result"
    }
   ],
   "source": [
    "#overall accuracy\n",
    "\n",
    "oa = cnf_mat.diagonal().sum()/cnf_mat.sum()\n",
    "oa"
   ]
  },
  {
   "cell_type": "code",
   "execution_count": 118,
   "id": "higher-costs",
   "metadata": {},
   "outputs": [
    {
     "data": {
      "text/plain": [
       "array([0.95060684, 0.96251295, 0.98944117, 0.99809693])"
      ]
     },
     "execution_count": 118,
     "metadata": {},
     "output_type": "execute_result"
    }
   ],
   "source": [
    "#userers accuracy\n",
    "ua = cnf_mat.diagonal()/cnf_mat.sum(axis=0)\n",
    "ua"
   ]
  },
  {
   "cell_type": "code",
   "execution_count": 120,
   "id": "sacred-system",
   "metadata": {},
   "outputs": [
    {
     "data": {
      "text/plain": [
       "array([0.99764779, 0.99295535, 0.91394639, 0.97275575])"
      ]
     },
     "execution_count": 120,
     "metadata": {},
     "output_type": "execute_result"
    }
   ],
   "source": [
    "#producers accuracy\n",
    "\n",
    "pa = cnf_mat.diagonal()/cnf_mat.sum(axis=1)\n",
    "pa"
   ]
  },
  {
   "cell_type": "code",
   "execution_count": 123,
   "id": "alike-comparison",
   "metadata": {},
   "outputs": [],
   "source": [
    "from sklearn.model_selection import StratifiedKFold"
   ]
  },
  {
   "cell_type": "code",
   "execution_count": 127,
   "id": "alike-minority",
   "metadata": {},
   "outputs": [],
   "source": [
    "skf = StratifiedKFold(n_splits = 5, random_state = 12, shuffle = True)"
   ]
  },
  {
   "cell_type": "code",
   "execution_count": 135,
   "id": "divided-decrease",
   "metadata": {},
   "outputs": [
    {
     "name": "stdout",
     "output_type": "stream",
     "text": [
      "[  0   1   3   4   5   6   7   8  10  11  12  13  14  15  16  18  19  20\n",
      "  21  22  23  24  25  26  28  30  31  32  33  34  36  37  38  39  40  42\n",
      "  43  44  48  49  50  51  52  53  54  55  56  57  58  59  60  61  63  64\n",
      "  65  67  68  69  70  73  74  76  78  79  80  81  82  84  85  86  87  88\n",
      "  89  90  91  92  94  95  96  97  98 100 101 102 104 105 107 109 111 112\n",
      " 113 115 116 117 119 122 123 125 126 127 128 129 130 132 133 135 136 137\n",
      " 138 139 140 141 142 143 144 145 146] [  2   9  17  27  29  35  41  45  46  47  62  66  71  72  75  77  83  93\n",
      "  99 103 106 108 110 114 118 120 121 124 131 134]\n"
     ]
    },
    {
     "name": "stderr",
     "output_type": "stream",
     "text": [
      "C:\\Users\\ronny\\.conda\\envs\\rs\\lib\\site-packages\\sklearn\\ensemble\\_forest.py:541: UserWarning: Some inputs do not have OOB scores. This probably means too few trees were used to compute any reliable oob estimates.\n",
      "  warn(\"Some inputs do not have OOB scores. \"\n",
      "C:\\Users\\ronny\\.conda\\envs\\rs\\lib\\site-packages\\sklearn\\ensemble\\_forest.py:546: RuntimeWarning: invalid value encountered in true_divide\n",
      "  predictions[k].sum(axis=1)[:, np.newaxis])\n"
     ]
    },
    {
     "name": "stdout",
     "output_type": "stream",
     "text": [
      "[  0   1   2   3   4   5   6   7   9  11  12  14  16  17  18  19  20  22\n",
      "  23  24  25  26  27  28  29  30  31  33  34  35  37  38  39  41  42  44\n",
      "  45  46  47  48  51  52  53  55  56  57  58  59  61  62  64  65  66  67\n",
      "  68  69  70  71  72  74  75  77  78  79  80  81  82  83  86  87  90  91\n",
      "  92  93  94  95  96  98  99 100 102 103 104 105 106 107 108 109 110 111\n",
      " 112 113 114 115 116 117 118 119 120 121 122 123 124 126 127 128 130 131\n",
      " 132 133 134 136 138 139 140 142 145] [  8  10  13  15  21  32  36  40  43  49  50  54  60  63  73  76  84  85\n",
      "  88  89  97 101 125 129 135 137 141 143 144 146]\n"
     ]
    },
    {
     "name": "stderr",
     "output_type": "stream",
     "text": [
      "C:\\Users\\ronny\\.conda\\envs\\rs\\lib\\site-packages\\sklearn\\ensemble\\_forest.py:541: UserWarning: Some inputs do not have OOB scores. This probably means too few trees were used to compute any reliable oob estimates.\n",
      "  warn(\"Some inputs do not have OOB scores. \"\n",
      "C:\\Users\\ronny\\.conda\\envs\\rs\\lib\\site-packages\\sklearn\\ensemble\\_forest.py:546: RuntimeWarning: invalid value encountered in true_divide\n",
      "  predictions[k].sum(axis=1)[:, np.newaxis])\n"
     ]
    },
    {
     "name": "stdout",
     "output_type": "stream",
     "text": [
      "[  1   2   3   4   7   8   9  10  11  12  13  14  15  17  18  19  21  23\n",
      "  24  25  27  28  29  30  31  32  33  34  35  36  37  38  40  41  43  44\n",
      "  45  46  47  49  50  52  54  55  58  59  60  62  63  65  66  67  68  69\n",
      "  70  71  72  73  74  75  76  77  78  80  81  82  83  84  85  87  88  89\n",
      "  91  92  93  95  96  97  98  99 101 103 104 105 106 107 108 109 110 111\n",
      " 112 113 114 115 116 117 118 120 121 122 124 125 126 129 131 132 134 135\n",
      " 136 137 138 139 140 141 143 144 145 146] [  0   5   6  16  20  22  26  39  42  48  51  53  56  57  61  64  79  86\n",
      "  90  94 100 102 119 123 127 128 130 133 142]\n"
     ]
    },
    {
     "name": "stderr",
     "output_type": "stream",
     "text": [
      "C:\\Users\\ronny\\.conda\\envs\\rs\\lib\\site-packages\\sklearn\\ensemble\\_forest.py:541: UserWarning: Some inputs do not have OOB scores. This probably means too few trees were used to compute any reliable oob estimates.\n",
      "  warn(\"Some inputs do not have OOB scores. \"\n",
      "C:\\Users\\ronny\\.conda\\envs\\rs\\lib\\site-packages\\sklearn\\ensemble\\_forest.py:546: RuntimeWarning: invalid value encountered in true_divide\n",
      "  predictions[k].sum(axis=1)[:, np.newaxis])\n"
     ]
    },
    {
     "name": "stdout",
     "output_type": "stream",
     "text": [
      "[  0   1   2   3   5   6   7   8   9  10  13  15  16  17  19  20  21  22\n",
      "  23  26  27  29  30  32  33  34  35  36  37  39  40  41  42  43  44  45\n",
      "  46  47  48  49  50  51  53  54  55  56  57  58  60  61  62  63  64  65\n",
      "  66  68  71  72  73  75  76  77  78  79  80  82  83  84  85  86  88  89\n",
      "  90  91  93  94  95  97  98  99 100 101 102 103 104 106 108 109 110 111\n",
      " 114 116 117 118 119 120 121 122 123 124 125 126 127 128 129 130 131 133\n",
      " 134 135 137 139 141 142 143 144 145 146] [  4  11  12  14  18  24  25  28  31  38  52  59  67  69  70  74  81  87\n",
      "  92  96 105 107 112 113 115 132 136 138 140]\n"
     ]
    },
    {
     "name": "stderr",
     "output_type": "stream",
     "text": [
      "C:\\Users\\ronny\\.conda\\envs\\rs\\lib\\site-packages\\sklearn\\ensemble\\_forest.py:541: UserWarning: Some inputs do not have OOB scores. This probably means too few trees were used to compute any reliable oob estimates.\n",
      "  warn(\"Some inputs do not have OOB scores. \"\n",
      "C:\\Users\\ronny\\.conda\\envs\\rs\\lib\\site-packages\\sklearn\\ensemble\\_forest.py:546: RuntimeWarning: invalid value encountered in true_divide\n",
      "  predictions[k].sum(axis=1)[:, np.newaxis])\n"
     ]
    },
    {
     "name": "stdout",
     "output_type": "stream",
     "text": [
      "[  0   2   4   5   6   8   9  10  11  12  13  14  15  16  17  18  20  21\n",
      "  22  24  25  26  27  28  29  31  32  35  36  38  39  40  41  42  43  45\n",
      "  46  47  48  49  50  51  52  53  54  56  57  59  60  61  62  63  64  66\n",
      "  67  69  70  71  72  73  74  75  76  77  79  81  83  84  85  86  87  88\n",
      "  89  90  92  93  94  96  97  99 100 101 102 103 105 106 107 108 110 112\n",
      " 113 114 115 118 119 120 121 123 124 125 127 128 129 130 131 132 133 134\n",
      " 135 136 137 138 140 141 142 143 144 146] [  1   3   7  19  23  30  33  34  37  44  55  58  65  68  78  80  82  91\n",
      "  95  98 104 109 111 116 117 122 126 139 145]\n"
     ]
    },
    {
     "name": "stderr",
     "output_type": "stream",
     "text": [
      "C:\\Users\\ronny\\.conda\\envs\\rs\\lib\\site-packages\\sklearn\\ensemble\\_forest.py:541: UserWarning: Some inputs do not have OOB scores. This probably means too few trees were used to compute any reliable oob estimates.\n",
      "  warn(\"Some inputs do not have OOB scores. \"\n",
      "C:\\Users\\ronny\\.conda\\envs\\rs\\lib\\site-packages\\sklearn\\ensemble\\_forest.py:546: RuntimeWarning: invalid value encountered in true_divide\n",
      "  predictions[k].sum(axis=1)[:, np.newaxis])\n"
     ]
    }
   ],
   "source": [
    "\n",
    "oaList = []\n",
    "for train_index, test_index in skf.split(gt[\"class_id\"],gt[\"class_id\"]):\n",
    "    print(train_index,test_index)\n",
    "    \n",
    "    #subset ground truth\n",
    "    polygon_train = gt.iloc[idx_train,:]\n",
    "    polygon_train = gt.iloc[idx_test,:]\n",
    "    \n",
    "    #rasterize polygons\n",
    "    shapes_test = ((geom,value) for geom, value in  zip(polygon_test.geometry, polygon_test.class_id))\n",
    "    label_test = features.rasterize(shapes = shapes_test, \n",
    "                  out_shape = (template[\"height\"],template[\"width\"]), \n",
    "                   transform = template[\"transform\"],\n",
    "                   fill = -1,\n",
    "                   all_touched = False,\n",
    "                   dtype = np.float32)\n",
    "    \n",
    "    shapes_train = ((geom,value) for geom, value in  zip(polygon_train.geometry, polygon_train.class_id))\n",
    "    label_train = features.rasterize(shapes = shapes_train, \n",
    "                  out_shape = (template[\"height\"],template[\"width\"]), \n",
    "                   transform = template[\"transform\"],\n",
    "                   fill = -1,\n",
    "                   all_touched = False,\n",
    "                   dtype = np.float32)\n",
    "    \n",
    "    #extract data from sentinel-2 bands\n",
    "    \n",
    "    X_train = bands[label_train>=0,:]\n",
    "    y_train = label_train[label_train>=0]\n",
    "    \n",
    "    X_test = bands[label_test>=0,:]\n",
    "    y_test = label_train[label_test>=0]\n",
    "    \n",
    "    #train model\n",
    "    \n",
    "    rf.fit(X_train,y_train)\n",
    "    \n",
    "    #predict model on entire dataset\n",
    "    #.......\n",
    "    \n",
    "\n",
    "    #aply model on test dataset\n",
    "    y_pred_test = rf.predict(X_test)\n",
    "        \n",
    "    #evaluate model\n",
    "    #cofusion matrix\n",
    "    conf_mat = confusion_matrix(y_test,y_pred_test)\n",
    "    \n",
    "    #erreor metric\n",
    "    overall_acc = conf_mat.diagonal().sum()/conf_mat.sum()\n",
    "    \n",
    "    oaList.append(overall_acc)\n",
    "    \n",
    "    "
   ]
  },
  {
   "cell_type": "code",
   "execution_count": 136,
   "id": "activated-tuesday",
   "metadata": {},
   "outputs": [
    {
     "data": {
      "text/plain": [
       "[0.9999757425802618,\n",
       " 0.9999757425802618,\n",
       " 0.9999757425802618,\n",
       " 0.9999757425802618,\n",
       " 0.9999757425802618]"
      ]
     },
     "execution_count": 136,
     "metadata": {},
     "output_type": "execute_result"
    }
   ],
   "source": [
    "oaList"
   ]
  }
 ],
 "metadata": {
  "kernelspec": {
   "display_name": "Python 3",
   "language": "python",
   "name": "python3"
  },
  "language_info": {
   "codemirror_mode": {
    "name": "ipython",
    "version": 3
   },
   "file_extension": ".py",
   "mimetype": "text/x-python",
   "name": "python",
   "nbconvert_exporter": "python",
   "pygments_lexer": "ipython3",
   "version": "3.7.10"
  }
 },
 "nbformat": 4,
 "nbformat_minor": 5
}
